{
  "nbformat": 4,
  "nbformat_minor": 0,
  "metadata": {
    "colab": {
      "name": "Credit Card.ipynb",
      "provenance": []
    },
    "kernelspec": {
      "name": "python3",
      "display_name": "Python 3"
    },
    "language_info": {
      "name": "python"
    }
  },
  "cells": [
    {
      "cell_type": "code",
      "execution_count": 1,
      "metadata": {
        "id": "ejkRqO15DngJ"
      },
      "outputs": [],
      "source": [
        "import numpy as np\n",
        "import pandas as pd\n",
        "import matplotlib.pyplot as plt\n",
        "import seaborn as sns\n",
        "from matplotlib import gridspec\n",
        "from sklearn.metrics import accuracy_score\n",
        "from termcolor import colored as cl"
      ]
    },
    {
      "cell_type": "code",
      "source": [
        "df = pd.read_csv(\"creditcard.csv\")"
      ],
      "metadata": {
        "id": "etPoDRfgD5jF"
      },
      "execution_count": 15,
      "outputs": []
    },
    {
      "cell_type": "code",
      "source": [
        "def clean_dataset(df):\n",
        "    assert isinstance(df, pd.DataFrame), \"df needs to be a pd.DataFrame\"\n",
        "    df.dropna(inplace=True)\n",
        "    indices_to_keep = ~df.isin([np.nan, np.inf, -np.inf]).any(1)\n",
        "    return df[indices_to_keep].astype(np.float64)"
      ],
      "metadata": {
        "id": "mBZzaCHdFKPo"
      },
      "execution_count": 16,
      "outputs": []
    },
    {
      "cell_type": "code",
      "source": [
        "df = clean_dataset(df)"
      ],
      "metadata": {
        "id": "HxH2yae3FOHY"
      },
      "execution_count": 18,
      "outputs": []
    },
    {
      "cell_type": "code",
      "source": [
        "print(df.shape)\n",
        "print(df.describe())"
      ],
      "metadata": {
        "colab": {
          "base_uri": "https://localhost:8080/"
        },
        "id": "yz7-cs4hD5lu",
        "outputId": "816cc8b6-c332-4346-b3b1-58f53dff2272"
      },
      "execution_count": 19,
      "outputs": [
        {
          "output_type": "stream",
          "name": "stdout",
          "text": [
            "(63471, 31)\n",
            "               Time            V1            V2            V3            V4  \\\n",
            "count  63471.000000  63471.000000  63471.000000  63471.000000  63471.000000   \n",
            "mean   32876.089647     -0.239754     -0.012665      0.685084      0.171504   \n",
            "std    13937.549740      1.859180      1.655067      1.431602      1.380517   \n",
            "min        0.000000    -56.407510    -72.715728    -32.965346     -5.172595   \n",
            "25%    27310.500000     -0.998598     -0.585863      0.200348     -0.723960   \n",
            "50%    36494.000000     -0.243442      0.074820      0.775911      0.187223   \n",
            "75%    43273.000000      1.154109      0.730532      1.409712      1.053800   \n",
            "max    50731.000000      1.960497     18.183626      4.101716     16.715537   \n",
            "\n",
            "                 V5            V6            V7            V8            V9  \\\n",
            "count  63471.000000  63471.000000  63471.000000  63471.000000  63471.000000   \n",
            "mean      -0.265098      0.102609     -0.113427      0.060231      0.046180   \n",
            "std        1.390604      1.305567      1.248894      1.186838      1.173742   \n",
            "min      -42.147898    -26.160506    -26.548144    -41.484823     -9.283925   \n",
            "25%       -0.883987     -0.636334     -0.604336     -0.143176     -0.657425   \n",
            "50%       -0.297446     -0.150158     -0.073504      0.064229     -0.052724   \n",
            "75%        0.274771      0.492800      0.423185      0.340830      0.707376   \n",
            "max       34.801666     22.529298     36.677268     20.007208     10.392889   \n",
            "\n",
            "       ...           V21           V22           V23           V24  \\\n",
            "count  ...  63471.000000  63471.000000  63471.000000  63471.000000   \n",
            "mean   ...     -0.028187     -0.107593     -0.038773      0.006023   \n",
            "std    ...      0.717475      0.636349      0.596221      0.596136   \n",
            "min    ...    -20.262054    -10.933144    -26.751119     -2.836627   \n",
            "25%    ...     -0.227571     -0.527888     -0.179561     -0.325172   \n",
            "50%    ...     -0.062403     -0.082507     -0.051844      0.061251   \n",
            "75%    ...      0.113836      0.307598      0.078972      0.402531   \n",
            "max    ...     22.614889      5.805795     17.297845      4.014444   \n",
            "\n",
            "                V25           V26           V27           V28        Amount  \\\n",
            "count  63471.000000  63471.000000  63471.000000  63471.000000  63471.000000   \n",
            "mean       0.136433      0.020155      0.001909      0.004163     96.080659   \n",
            "std        0.438851      0.498258      0.383913      0.322974    270.787460   \n",
            "min       -7.495741     -2.534330     -8.567638     -9.617915      0.000000   \n",
            "25%       -0.127732     -0.329552     -0.063137     -0.005981      7.680000   \n",
            "50%        0.174146     -0.076052      0.009199      0.022698     26.220000   \n",
            "75%        0.422721      0.296894      0.082428      0.076330     88.000000   \n",
            "max        5.525093      3.517346     11.135740     33.847808  19656.530000   \n",
            "\n",
            "             Class  \n",
            "count  63471.00000  \n",
            "mean       0.00260  \n",
            "std        0.05092  \n",
            "min        0.00000  \n",
            "25%        0.00000  \n",
            "50%        0.00000  \n",
            "75%        0.00000  \n",
            "max        1.00000  \n",
            "\n",
            "[8 rows x 31 columns]\n"
          ]
        }
      ]
    },
    {
      "cell_type": "code",
      "source": [
        "fraud = df[df['Class'] == 1]\n",
        "valid = df[df['Class'] == 0]\n",
        "outlierFraction = len(fraud)/float(len(valid))\n",
        "print(outlierFraction)\n",
        "print('fraud cases: {}'.format(len(df[df['Class'] == 1])))\n",
        "print('valid transactions: {}'.format(len(df[df['Class'] == 0])))"
      ],
      "metadata": {
        "colab": {
          "base_uri": "https://localhost:8080/"
        },
        "id": "fO7WQNIzD5oS",
        "outputId": "2fcba6fc-0908-4b97-cdf9-b2b733468788"
      },
      "execution_count": 20,
      "outputs": [
        {
          "output_type": "stream",
          "name": "stdout",
          "text": [
            "0.002606388020092882\n",
            "fraud cases: 165\n",
            "valid transactions: 63306\n"
          ]
        }
      ]
    },
    {
      "cell_type": "code",
      "source": [
        "\n",
        "fraud.Amount.describe()"
      ],
      "metadata": {
        "colab": {
          "base_uri": "https://localhost:8080/"
        },
        "id": "xqDFzFXSD5q4",
        "outputId": "f2519261-c731-4d83-d8d8-f71f67f98818"
      },
      "execution_count": 21,
      "outputs": [
        {
          "output_type": "execute_result",
          "data": {
            "text/plain": [
              "count     165.000000\n",
              "mean       94.772182\n",
              "std       223.636274\n",
              "min         0.000000\n",
              "25%         1.000000\n",
              "50%         5.300000\n",
              "75%        99.990000\n",
              "max      1809.680000\n",
              "Name: Amount, dtype: float64"
            ]
          },
          "metadata": {},
          "execution_count": 21
        }
      ]
    },
    {
      "cell_type": "code",
      "source": [
        "#Details\n",
        "valid.Amount.describe()"
      ],
      "metadata": {
        "colab": {
          "base_uri": "https://localhost:8080/"
        },
        "id": "ULQF3gjVEEr3",
        "outputId": "d80b61e4-d822-43e9-ac51-a3f5e724ebc1"
      },
      "execution_count": 22,
      "outputs": [
        {
          "output_type": "execute_result",
          "data": {
            "text/plain": [
              "count    63306.000000\n",
              "mean        96.084069\n",
              "std        270.901083\n",
              "min          0.000000\n",
              "25%          7.680000\n",
              "50%         26.270000\n",
              "75%         87.985000\n",
              "max      19656.530000\n",
              "Name: Amount, dtype: float64"
            ]
          },
          "metadata": {},
          "execution_count": 22
        }
      ]
    },
    {
      "cell_type": "code",
      "source": [
        "X = df.drop(['Class'], axis = 1)\n",
        "Y = df[\"Class\"]\n",
        "print(X.shape)\n",
        "print(Y.shape)\n",
        "\n",
        "xData = X.values\n",
        "yData = Y.values"
      ],
      "metadata": {
        "colab": {
          "base_uri": "https://localhost:8080/"
        },
        "id": "qEwlu6yoEEuq",
        "outputId": "5b618399-1f26-4209-bb21-1f52cf49ba04"
      },
      "execution_count": 23,
      "outputs": [
        {
          "output_type": "stream",
          "name": "stdout",
          "text": [
            "(63471, 30)\n",
            "(63471,)\n"
          ]
        }
      ]
    },
    {
      "cell_type": "code",
      "source": [
        "from sklearn.model_selection import train_test_split\n",
        "\n",
        "X_train, X_test, y_train,y_test = train_test_split(\n",
        "        xData, yData, test_size = 0.2, random_state = 42)"
      ],
      "metadata": {
        "id": "hAQhKtpyEEz0"
      },
      "execution_count": 24,
      "outputs": []
    },
    {
      "cell_type": "code",
      "source": [
        "from sklearn.tree import DecisionTreeClassifier\n",
        "tree_model = DecisionTreeClassifier(max_depth = 4, criterion = 'entropy')\n"
      ],
      "metadata": {
        "id": "ytszOrV7EE2L"
      },
      "execution_count": 25,
      "outputs": []
    },
    {
      "cell_type": "code",
      "source": [
        "tree_model.fit(X_train, y_train)\n"
      ],
      "metadata": {
        "colab": {
          "base_uri": "https://localhost:8080/"
        },
        "id": "IS0UaIe5EJmy",
        "outputId": "25c74b39-e03d-402b-eca1-a8c59185fcda"
      },
      "execution_count": 26,
      "outputs": [
        {
          "output_type": "execute_result",
          "data": {
            "text/plain": [
              "DecisionTreeClassifier(criterion='entropy', max_depth=4)"
            ]
          },
          "metadata": {},
          "execution_count": 26
        }
      ]
    },
    {
      "cell_type": "code",
      "source": [
        "tree_yhat = tree_model.predict(X_test)"
      ],
      "metadata": {
        "id": "NOt4SdVXEJpt"
      },
      "execution_count": 27,
      "outputs": []
    },
    {
      "cell_type": "code",
      "source": [
        "print(cl('Accuracy for Decision Tree model is {}'.format(accuracy_score(y_test, tree_yhat))))"
      ],
      "metadata": {
        "colab": {
          "base_uri": "https://localhost:8080/"
        },
        "id": "tgaM5tvMEJsj",
        "outputId": "fcf8a40c-4b08-454b-dcfd-1573ad36c3a1"
      },
      "execution_count": 33,
      "outputs": [
        {
          "output_type": "stream",
          "name": "stdout",
          "text": [
            "Accuracy for Decision Tree model is 0.9991335171327295\u001b[0m\n"
          ]
        }
      ]
    },
    {
      "cell_type": "code",
      "source": [
        "from sklearn.neighbors import KNeighborsClassifier \n",
        "n = 5\n",
        "knn = KNeighborsClassifier(n_neighbors = n)\n",
        "knn.fit(X_train, y_train)\n",
        "knn_yhat = knn.predict(X_test)"
      ],
      "metadata": {
        "id": "XAnTb0lkEJu4"
      },
      "execution_count": 29,
      "outputs": []
    },
    {
      "cell_type": "code",
      "source": [
        "print(cl('Accuracy score for KNN model is {}'.format(accuracy_score(y_test, knn_yhat))))\n"
      ],
      "metadata": {
        "colab": {
          "base_uri": "https://localhost:8080/"
        },
        "id": "-n8Ph3A8FtLC",
        "outputId": "d77d21d8-8221-4bc0-9892-619c2c4d2423"
      },
      "execution_count": 32,
      "outputs": [
        {
          "output_type": "stream",
          "name": "stdout",
          "text": [
            "Accuracy score for KNN model is 0.9970854667191807\u001b[0m\n"
          ]
        }
      ]
    },
    {
      "cell_type": "code",
      "source": [
        "from sklearn.linear_model import LogisticRegression\n",
        "\n",
        "lr = LogisticRegression()\n",
        "lr.fit(X_train, y_train)\n",
        "lr_yhat = lr.predict(X_test)"
      ],
      "metadata": {
        "colab": {
          "base_uri": "https://localhost:8080/"
        },
        "id": "2MlzWXmUFtNg",
        "outputId": "1e851bc4-3542-421b-b5fd-327653d2b202"
      },
      "execution_count": 34,
      "outputs": [
        {
          "output_type": "stream",
          "name": "stderr",
          "text": [
            "/usr/local/lib/python3.7/dist-packages/sklearn/linear_model/_logistic.py:818: ConvergenceWarning: lbfgs failed to converge (status=1):\n",
            "STOP: TOTAL NO. of ITERATIONS REACHED LIMIT.\n",
            "\n",
            "Increase the number of iterations (max_iter) or scale the data as shown in:\n",
            "    https://scikit-learn.org/stable/modules/preprocessing.html\n",
            "Please also refer to the documentation for alternative solver options:\n",
            "    https://scikit-learn.org/stable/modules/linear_model.html#logistic-regression\n",
            "  extra_warning_msg=_LOGISTIC_SOLVER_CONVERGENCE_MSG,\n"
          ]
        }
      ]
    },
    {
      "cell_type": "code",
      "source": [
        "print(cl('Accuracy score of the Logistic Regression model is {}'.format(accuracy_score(y_test, lr_yhat))))\n"
      ],
      "metadata": {
        "colab": {
          "base_uri": "https://localhost:8080/"
        },
        "id": "fv8K5hCEFtP5",
        "outputId": "125bd99c-14f9-4f9a-e48a-de15818f7dc7"
      },
      "execution_count": 35,
      "outputs": [
        {
          "output_type": "stream",
          "name": "stdout",
          "text": [
            "Accuracy score of the Logistic Regression model is 0.998188263095707\u001b[0m\n"
          ]
        }
      ]
    }
  ]
}